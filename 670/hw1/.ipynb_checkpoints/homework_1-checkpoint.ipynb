{
 "cells": [
  {
   "cell_type": "markdown",
   "metadata": {},
   "source": [
    "#### CSCE 670 :: Information Storage and Retrieval :: Texas A&M University :: Spring 2018\n",
    "\n",
    "\n",
    "# Homework 1:  Basic Machine Learning + Learning to Rank \n",
    "\n",
    "### 100 points [5% of your final grade]\n",
    "\n",
    "### Due: Monday, February 12 by 11:59pm\n",
    "\n",
    "*Goals of this homework:* In this homework you will get hands-on experience with (i) the basics of machine learning (e.g. train/test data, cross-validation, different classifiers) and interpreting results; and (ii) learning to rank.\n",
    "\n",
    "*Submission Instructions:* To submit your homework, rename this notebook as UIN_hw#.ipynb. For example, this homework submission would be: YourUIN_hw1.ipynb. Submit this notebook via ecampus. Your notebook should be completely self-contained, with the results visible in the notebook. \n",
    "\n",
    "*Late submission policy:* For this homework, you may use up to three of your late days, meaning that no submissions will be accepted after Thursday, February 15 at 11:59pm.\n",
    "\n",
    "*Collaboration policy:* You are expected to complete each homework independently. Your solution should be written by you without the direct aid or help of anyone else. However, we believe that collaboration and team work are important for facilitating learning, so we encourage you to discuss problems and general problem approaches (but not actual solutions) with your classmates. You may post on Piazza, search StackOverflow, etc. But if you do get help in this way, you must inform us by **filling out the Collaboration Declarations at the bottom of this notebook**. \n",
    "\n",
    "*Example: I found helpful code on stackoverflow at https://stackoverflow.com/questions/11764539/writing-fizzbuzz that helped me solve Problem 2.*\n",
    "\n",
    "The basic rule is that no student should explicitly share a solution with another student (and thereby circumvent the basic learning process), but it is okay to share general approaches, directions, and so on. If you feel like you have an issue that needs clarification, feel free to contact either me or the TA."
   ]
  },
  {
   "cell_type": "markdown",
   "metadata": {},
   "source": [
    "# Part 1: Basics of ML (70 points)\n",
    "\n",
    "For this part, we're going to get familiar with scikit-learn (a great ML toolkit that is very popular) and the major issues in training a model, testing it, and interpreting the results. Our goal in this assignment is to build a classifier to determine if a Yelp review is \"food-relevant\" or not.\n",
    "\n",
    "## Dataset: Yelp review data\n",
    "\n",
    "First, you will need to download the training_data.json file from the Resources tab on Piazza, a collection of 40,000 json-encoded Yelp reviews we sampled from the [Yelp Dataset Challenge](https://www.yelp.com/dataset_challenge).\n",
    "\n",
    "You'll see that each line corresponds to a review on a particular business. The label (class) information of each review is in the \"label\" field. It is **either \"Food-relevant\" or \"Food-irrelevant\"**."
   ]
  },
  {
   "cell_type": "markdown",
   "metadata": {},
   "source": [
    "## Part 1.1: Parsing Yelp (15 points)\n",
    "\n",
    "For this first part, we will build a parser for extracting tokens from the **review text** only. First, you should tokenize each review using **whitespaces and punctuations as delimiters**. Do not remove stopwords. You should apply casefolding (lower case everything) and use the [nltk Porter stemmer](http://www.nltk.org/api/nltk.stem.html#module-nltk.stem.porter) ... you may need to install nltk if you don't have it already. "
   ]
  },
  {
   "cell_type": "code",
   "execution_count": 44,
   "metadata": {},
   "outputs": [
    {
     "name": "stdout",
     "output_type": "stream",
     "text": [
      "{u'poorli': 1, u'four': 5, u'secondli': 1, u'hate': 4, u'authorit': 1, u'accur': 1, u'sorri': 1, u'sweetest': 1, u'under': 2, u'worth': 6, u'ale': 1, u'everi': 10, u'rise': 1, u'voic': 2, u'shoot': 1, u'appar': 1, u'ala': 1, u'school': 6, u'frozen': 2, u'enjoy': 11, u'charter': 15, u'almond': 2, u'bacon': 4, u'crave': 1, u'street': 3, u'blasphemi': 1, u'even': 12, u'neg': 3, u'asid': 1, u'weren': 2, u'lakesid': 1, u'new': 11, u'ever': 4, u'told': 11, u'specialist': 1, u'never': 11, u'here': 40, u'met': 1, u'path': 1, u'strewn': 1, u'daughter': 2, u'k': 1, u'smoke': 1, u'studi': 3, u'campaign': 1, u'homemad': 3, u'meati': 2, u'brought': 3, u'attitud': 2, u'stern': 1, u'total': 3, u'highli': 3, u'spoke': 1, u'would': 21, u'prescript': 1, u'blueberri': 1, u'dnt': 2, u'call': 27, u'recommend': 7, u'type': 4, u'until': 3, u'relay': 1, u'relax': 3, u'culver': 11, u'notic': 2, u'99': 2, u'phone': 10, u'warm': 4, u'adult': 1, u'qualm': 3, u'90': 2, u'midst': 1, u'94': 2, u'must': 6, u'me': 42, u'rangoon': 1, u'word': 2, u'room': 5, u'setup': 1, u'work': 18, u'wors': 2, u'my': 87, u'vodka': 2, u'omelett': 1, u'give': 15, u'want': 13, u'david': 2, u'gigant': 1, u'end': 4, u'turn': 2, u'polic': 1, u'ordinari': 2, u'how': 14, u'hot': 3, u'enforc': 1, u'hop': 1, u'answer': 6, u'disappoint': 6, u'polit': 1, u'chines': 1, u'after': 18, u'befor': 10, u'turf': 2, u'law': 2, u'arch': 1, u'averag': 4, u'attempt': 1, u'third': 2, u'greet': 1, u'wink': 1, u'maintain': 1, u'green': 24, u'waitress': 9, u'plagu': 1, u'worst': 2, u'order': 22, u'wine': 1, u'sickli': 1, u'diagnos': 1, u'muffin': 2, u'over': 21, u'orang': 1, u'becaus': 17, u'fit': 2, u'fix': 2, u'better': 10, u'offic': 6, u'fil': 1, u'then': 5, u'them': 10, u'anim': 1, u'proce': 1, u'safe': 1, u'cheesi': 2, u'break': 1, u'promis': 1, u'they': 80, u'surgic': 1, u'one': 33, u'rental': 1, u'runni': 1, u'bank': 1, u'bread': 4, u'choic': 2, u'bonu': 1, u'dumpl': 4, u'mcfarland': 3, u'each': 1, u'went': 14, u'meal': 18, u'luck': 1, u'navi': 1, u'saturday': 3, u'incomprehens': 1, u'depress': 1, u'goe': 1, u'god': 1, u're': 7, u'dsl': 2, u'tso': 1, u'got': 16, u'arizona': 2, u'disorgan': 1, u'situat': 1, u'free': 2, u'greasi': 6, u'ate': 5, u'takeout': 1, u'isn': 5, u'startl': 1, u'subtl': 1, u'onto': 1, u'bite': 1, u'rang': 1, u'grade': 1, u'wast': 2, u'unlik': 1, u'wasn': 3, u'thick': 2, u'massiv': 1, u'fantast': 1, u'attach': 2, u'top': 10, u'sometim': 1, u'necessarili': 1, u'ton': 1, u'too': 5, u'outag': 1, u'gyn': 1, u'took': 5, u'compressor': 1, u'snooti': 1, u'provid': 5, u'tree': 1, u'matter': 2, u'iron': 1, u'loiter': 1, u'minut': 14, u'fibroid': 1, u'modern': 1, u'mind': 1, u'mine': 2, u'manner': 1, u'seen': 4, u'seem': 6, u'seek': 1, u'spade': 1, u'especi': 1, u'snow': 1, u'thorough': 1, u'plenti': 5, u'though': 6, u'y': 1, u'gravi': 2, u'regular': 2, u'letter': 2, u'phase': 1, u'everyth': 5, u'simplic': 1, u'excus': 1, u'don': 30, u'doc': 1, u'm': 16, u'doe': 2, u'tech': 1, u'mushi': 2, u'came': 11, u'bomb': 1, u'opposit': 1, u'celeri': 1, u'absolut': 8, u'northeast': 1, u'menu': 11, u'explain': 4, u'restaur': 23, u'voltion': 1, u'theme': 1, u'busi': 6, u'do': 31, u'wide': 1, u'ambianc': 2, u'deforest': 1, u'watch': 2, u'foremost': 1, u'pocket': 1, u'dr': 12, u'earn': 1, u'bar': 12, u'sauc': 3, u'twice': 2, u'bad': 8, u'steak': 10, u'greeni': 3, u'respond': 1, u'fair': 2, u'crunch': 1, u'nut': 1, u'wholesom': 1, u'empathet': 1, u'result': 1, u'themselv': 1, u'fluffi': 1, u'best': 16, u'00': 3, u'said': 17, u'away': 5, u'figur': 1, u'outstand': 2, u'finger': 1, u'attribut': 1, u'we': 99, u'omg': 2, u'extend': 1, u'uninspir': 1, u'wi': 1, u'wear': 1, u'advertis': 3, u'kitchen': 1, u'brianna': 1, u'howev': 13, u'cod': 3, u'logic': 1, u'countri': 3, u'com': 1, u'con': 1, u'pre': 1, u'tough': 2, u'sheepdog': 1, u'delic': 1, u'guid': 1, u'assum': 1, u'speak': 2, u'beef': 2, u'fri': 37, u'three': 2, u'been': 24, u'blower': 1, u'beer': 3, u'much': 18, u'interest': 3, u'basic': 4, u'hesit': 1, u'quickli': 2, u'life': 3, u'deeper': 1, u'mushroom': 4, u'worker': 6, u'anywher': 1, u'lift': 1, u'chili': 1, u'servic': 44, u'cracker': 2, u'n': 2, u'dept': 1, u'near': 5, u'gave': 1, u'lightli': 3, u'is': 148, u'it': 161, u'elicit': 1, u'cone': 10, u'in': 99, u'sever': 7, u'if': 36, u'receiv': 5, u'suggest': 2, u'make': 16, u'dazzl': 1, u'split': 1, u'complet': 4, u'hang': 1, u'hand': 2, u'fairli': 2, u'refil': 2, u'supper': 7, u'tuna': 1, u'kid': 3, u'butter': 11, u'kept': 1, u'bewar': 2, u'thu': 1, u'serivc': 1, u'contact': 2, u'shortli': 2, u'thi': 86, u'the': 527, u'left': 7, u'just': 35, u'yet': 3, u'ham': 3, u'easi': 5, u'had': 56, u'els': 5, u'save': 2, u'hat': 1, u'pharmaci': 1, u'opt': 1, u'recomend': 1, u'mayb': 4, u'kalamari': 2, u'3pm': 1, u'burnt': 1, u'apart': 1, u'specif': 1, u'55': 1, u'contradict': 2, u'51': 1, u'50': 3, u'remind': 1, u'night': 9, u'hung': 1, u'pinecon': 1, u'www': 1, u'right': 13, u'old': 9, u'creek': 3, u'crowd': 2, u'dead': 1, u'printer': 2, u'bore': 1, u'humor': 1, u'for': 111, u'ice': 1, u'fod': 1, u'tailgat': 1, u'plu': 3, u'tartar': 1, u'bold': 1, u'corn': 1, u'burn': 1, u'promot': 8, u'post': 3, u'super': 6, u'plug': 1, u'diner': 6, u'slightli': 1, u'recollect': 1, u'unfortun': 2, u'dinner': 15, u'afternoon': 1, u'produc': 1, u'float': 1, u'profession': 1, u'son': 1, u'down': 6, u'wrap': 1, u'deal': 1, u'frustrat': 2, u'happi': 4, u'avail': 6, u'stuck': 1, u'way': 9, u'jane': 1, u'music': 5, u'lowest': 1, u'head': 6, u'medium': 1, u'offer': 11, u'heat': 1, u'hear': 3, u'reset': 1, u'misinform': 1, u'tell': 6, u'nicest': 1, u'chochol': 1, u'classic': 1, u'drive': 6, u'door': 1, u'check': 5, u'shit': 1, u'smelt': 3, u'no': 24, u'excel': 2, u'til': 1, u'nt': 1, u'unlimit': 1, u'felt': 2, u'journey': 1, u'consid': 1, u'minneapoli': 1, u'weekend': 2, u'outdat': 2, u'longer': 2, u'glass': 2, u'hungri': 1, u'time': 50, u'serious': 1, u'backward': 1, u'daili': 1, u'5': 8, u'chain': 4, u'consum': 1, u'mile': 1, u'coudn': 1, u'rot': 2, u'decid': 4, u'middl': 1, u'flash': 1, u'father': 1, u'veg': 1, u'certainli': 1, u'brown': 6, u'rendit': 1, u'lynch': 2, u'cook': 13, u'exact': 1, u'sloppi': 1, u'level': 2, u'did': 7, u'die': 1, u'item': 3, u'eclair': 4, u'quick': 7, u'guy': 7, u'upper': 2, u'regret': 1, u'rhineland': 1, u'sign': 5, u'cost': 1, u'run': 2, u'bake': 9, u'appear': 1, u'current': 5, u'appeal': 1, u'unpretenti': 2, u'gener': 4, u'french': 4, u'water': 2, u'snack': 1, u'address': 2, u'along': 5, u'wait': 18, u'box': 3, u'buck': 1, u'insan': 3, u'bop': 1, u'cinnamon': 6, u'guilti': 1, u'love': 30, u'extra': 3, u'snowboard': 1, u'1st': 1, u'instal': 3, u'market': 1, u'bloodi': 4, u'projector': 1, u'memori': 3, u'edibl': 1, u'visit': 4, u'live': 8, u'wood': 1, u'ahhh': 1, u'thru': 1, u'today': 3, u'club': 9, u'peopl': 16, u'appet': 1, u'downtown': 3, u'ventur': 1, u'car': 1, u'prepar': 2, u'judg': 2, u'uniqu': 1, u'cat': 1, u'soup': 3, u'whatev': 5, u'inadequ': 1, u'walley': 4, u'claim': 2, u'practition': 1, u'fabul': 1, u'agent': 1, u'crazi': 3, u'occur': 1, u'hematoma': 1, u'pine': 10, u'nyu': 1, u'write': 2, u'alway': 21, u'sunday': 3, u'anyon': 4, u'pure': 2, u'nyc': 2, u'cocktail': 3, u'may': 2, u'filthi': 1, u'birthday': 1, u'mag': 1, u'date': 3, u'such': 7, u'suck': 2, u'man': 6, u'practic': 6, u'johnson': 5, u'mgr': 1, u'quot': 2, u'favorit': 6, u'st': 1, u'tale': 1, u'inform': 3, u'truck': 14, u'april': 1, u'untest': 1, u'travel': 1, u'talk': 4, u'cute': 1, u'horrifi': 1, u'approv': 1, u'brain': 1, u'equip': 1, u'cold': 2, u'still': 13, u'aw': 3, u'disconnect': 2, u'thank': 2, u'window': 4, u'gem': 2, u'mail': 4, u'mediocr': 1, u'main': 1, u'honeymoon': 1, u'recal': 3, u'nod': 1, u'financi': 1, u'initi': 1, u'lunch': 9, u'aesthet': 1, u'half': 4, u'not': 56, u'now': 9, u'term': 1, u'name': 1, u'stir': 1, u'didn': 3, u'magazin': 3, u'rock': 1, u'januari': 1, u'updat': 3, u'eh': 1, u'replac': 2, u'yeah': 3, u'year': 19, u'happen': 4, u'accomplish': 1, u'waitstaff': 3, u'space': 1, u'sunda': 2, u'internet': 12, u'correct': 1, u'earlier': 1, u'underwhelm': 1, u'argu': 1, u'card': 1, u'care': 3, u'couldn': 4, u'refus': 1, u'recov': 1, u'thing': 13, u'yuk': 1, u'place': 54, u'swing': 2, u'router': 1, u'profess': 1, u'think': 15, u'frequent': 2, u'first': 13, u'origin': 3, u'spoken': 1, u'onc': 6, u'hashbrown': 8, u'yourself': 2, u'long': 9, u'appetz': 1, u'oppos': 1, u'ring': 1, u'drove': 2, u'open': 3, u'size': 8, u'christma': 3, u'imit': 1, u'caught': 1, u'plastic': 1, u'packer': 1, u'assort': 1, u'2': 10, u'50pm': 1, u'white': 1, u'friend': 5, u'showdown': 1, u'that': 100, u'season': 2, u'copi': 1, u'tavern': 1, u'mostli': 2, u'than': 14, u'boyfriend': 2, u'serv': 4, u'10': 6, u'12': 3, u'15': 2, u'19': 1, u'were': 40, u'posit': 3, u'browser': 2, u'and': 346, u'coconut': 1, u'pastri': 5, u'nicer': 1, u'slaw': 1, u'pro': 2, u'ani': 15, u'say': 7, u'rent': 1, u'deliv': 1, u'breakfast': 30, u'saw': 1, u'sat': 3, u'squat': 1, u'advic': 1, u'take': 18, u'advis': 1, u'interior': 1, u'environ': 1, u'concern': 1, u'noth': 5, u'surf': 2, u'200': 1, u'begin': 1, u'sure': 13, u'normal': 1, u'tornado': 1, u'price': 23, u'knew': 5, u'pair': 1, u'librarian': 1, u'pathet': 1, u'dream': 1, u'seafood': 1, u'later': 8, u'sale': 6, u'waubesa': 1, u'salt': 1, u'yelper': 1, u'perch': 1, u'madison': 10, u'shot': 2, u'unsuspect': 1, u'show': 4, u'cheap': 5, u'calamari': 3, u'ground': 1, u'onli': 18, u'slow': 2, u'dice': 1, u'enough': 11, u'soothingli': 1, u'cucumb': 1, u'black': 1, u'kitschi': 1, u'nearli': 1, u'get': 36, u'cannot': 6, u'outlet': 2, u'requir': 1, u'reveal': 2, u'dough': 3, u'where': 12, u'husband': 2, u'picnic': 1, u'concert': 1, u'surgeri': 1, u'seat': 7, u'divey': 1, u'reserv': 1, u'anem': 1, u'wonder': 5, u'review': 13, u'denizen': 1, u'3': 10, u'between': 3, u'import': 2, u'across': 1, u'parent': 1, u'screen': 1, u'blame': 1, u'come': 14, u'quiet': 5, u'nearbi': 1, u's': 61, u'inconsist': 1, u'mani': 7, u'color': 3, u'pop': 2, u'60': 3, u'cancel': 6, u'freak': 1, u'boat': 7, u'turkey': 1, u'ultim': 1, u'coupl': 3, u'hardli': 1, u'mari': 4, u'bedsid': 1, u'500': 1, u'eateri': 1, u'former': 1, u'those': 10, u'countless': 1, u'sound': 1, u'myself': 2, u'these': 6, u'advantag': 1, u'worri': 1, u'par': 1, u'doctor': 15, u'pay': 5, u'medic': 4, u'same': 9, u'trip': 7, u'pan': 1, u'week': 4, u'finish': 3, u'driver': 2, u'someon': 7, u'companion': 2, u'capabl': 1, u'improv': 2, u'willingli': 1, u'moder': 1, u'floor': 1, u'without': 10, u'moden': 1, u'modem': 1, u'summer': 1, u'poach': 1, u'tip': 2, u'rest': 1, u'kill': 1, u'aspect': 1, u'flavor': 8, u'speed': 4, u'blow': 1, u'indulg': 1, u'hint': 3, u'mcdonald': 1, u'except': 3, u'littl': 10, u'4': 6, u'real': 1, u'around': 7, u'read': 5, u'ladi': 1, u'dark': 1, u'temperatur': 1, u'mom': 2, u'world': 2, u'grin': 1, u'smell': 1, u'server': 6, u'either': 4, u'manag': 2, u'cabl': 7, u'adequ': 1, u'lobster': 3, u'slice': 1, u'confirm': 4, u'definit': 5, u'yike': 1, u'exit': 1, u'refer': 1, u'power': 1, u'broken': 2, u'referr': 1, u'on': 71, u'ok': 4, u'oh': 1, u'of': 153, u'side': 4, u'stand': 2, u'neighbor': 1, u'mean': 3, u'or': 27, u'road': 3, u'effici': 1, u'homeless': 1, u'your': 25, u'stare': 1, u'her': 10, u'area': 12, u'aren': 1, u'there': 41, u'hey': 1, u'start': 9, u'low': 1, u'lot': 6, u'bundl': 1, u'regard': 1, u'omelet': 2, u'with': 82, u'pull': 1, u'rush': 2, u'possibl': 4, u'potato': 7, u'bucket': 1, u'nostalg': 1, u'monopoli': 3, u'connect': 1, u'gone': 1, u'tasti': 7, u'ad': 1, u'creat': 1, u'certain': 1, u'am': 15, u'deep': 2, u'fellow': 2, u'as': 46, u'at': 52, u'file': 1, u'film': 1, u'fill': 3, u'again': 9, u'jingl': 2, u'puppi': 1, u'compel': 1, u'tight': 1, u'compet': 1, u'you': 80, u'trash': 1, u'juic': 1, u'poor': 4, u'hwi': 1, u'briefli': 1, u'reduc': 1, u'wife': 4, u'invest': 1, u'mash': 2, u'u': 2, u'alright': 3, u'platter': 1, u'all': 44, u'forget': 1, u'lack': 2, u'dollar': 1, u'month': 2, u'dish': 1, u'children': 1, u'tv': 4, u'incap': 1, u'laid': 1, u'thursday': 2, u'articl': 3, u'to': 258, u'program': 1, u'midwest': 2, u'introduc': 1, u'case': 5, u'vers': 1, u'liter': 2, u'far': 6, u'fav': 1, u'fat': 1, u'fan': 3, u'veri': 43, u'heaven': 1, u'list': 3, u'small': 3, u'neighborhood': 1, u'198': 1, u'past': 3, u'burger': 14, u'rate': 11, u'design': 1, u'pass': 1, u'further': 2, u'waffl': 1, u'what': 24, u'stood': 1, u'sub': 1, u'sum': 1, u'abl': 4, u'pluse': 1, u'public': 2, u'full': 3, u'hash': 7, u'shouldn': 1, u'trunk': 1, u'strong': 2, u'valu': 1, u'search': 1, u'ahead': 1, u'depart': 1, u'young': 4, u'ask': 11, u'conspicu': 1, u'famili': 13, u'establish': 1, u'memor': 1, u'select': 5, u'engag': 1, u'eye': 3, u'regist': 1, u'two': 7, u'morn': 6, u'6': 2, u'taken': 2, u'more': 23, u'mosine': 1, u'desir': 1, u'hurri': 1, u'stick': 2, u'compani': 10, u'glad': 4, u'town': 2, u'grill': 1, u'hour': 12, u'hous': 1, u'salti': 1, u'challeng': 1, u'share': 1, u'accept': 4, u'unreli': 1, u'explor': 1, u'dress': 1, u'huge': 13, u'cours': 4, u'goal': 1, u'rather': 2, u'anoth': 10, u'comfort': 1, u'divin': 1, u'simpl': 5, u'sandwich': 6, u'resourc': 2, u'rude': 3, u'backyard': 1, u'fo': 1, u'a': 272, u'circumst': 1, u'short': 2, u'jiang': 1, u'author': 1, u'caus': 2, u'cigarett': 2, u'egg': 10, u'mexican': 1, u'help': 5, u'soon': 3, u'through': 5, u'bown': 1, u'24': 3, u'25': 4, u'style': 2, u'20': 3, u'late': 1, u'pend': 1, u'reschedul': 1, u'exchang': 1, u'delici': 12, u'cool': 1, u'might': 5, u'fool': 1, u'wouldn': 2, u'good': 76, u'return': 6, u'food': 46, u'ye': 3, u'yr': 2, u'complain': 3, u'bigger': 1, u'mysteri': 1, u'easili': 2, u'achiev': 1, u'found': 7, u'lantern': 23, u'fish': 27, u'hard': 5, u'idea': 1, u'realli': 25, u'heavi': 2, u'expect': 6, u'energi': 2, u'beyond': 1, u'standard': 1, u'ditch': 1, u'safeti': 1, u'health': 2, u'7': 6, u'print': 1, u'highway': 4, u'wisconsin': 4, u'friday': 15, u'guess': 2, u'pleasant': 3, u'cooki': 4, u'reason': 11, u'base': 1, u'believ': 2, u'put': 3, u'basi': 1, u'american': 3, u'w': 1, u'feed': 1, u'dine': 5, u'dont': 2, u'feel': 8, u'famou': 3, u'number': 1, u'reuben': 1, u'done': 6, u'blank': 1, u'horribl': 1, u'miss': 6, u'fanci': 1, u'differ': 4, u'benedict': 2, u'swipe': 1, u'least': 4, u'stori': 2, u'station': 2, u'store': 1, u'mhmg': 1, u'option': 5, u'relationship': 1, u'behind': 1, u'hotel': 1, u'part': 2, u'albeit': 1, u'kind': 9, u'remov': 1, u'overtim': 1, u'toward': 1, u'accomod': 1, u'phobic': 1, u'comput': 3, u'atmospher': 8, u'defect': 1, u'packag': 1, u'remodel': 1, u'sell': 1, u'imagin': 1, u'stapl': 1, u'also': 13, u'useless': 1, u'play': 3, u'english': 2, u'reach': 1, u'most': 3, u'charm': 3, u'plan': 1, u'eaten': 4, u'charg': 6, u'amaz': 5, u'tarragon': 1, u'particularili': 1, u'clear': 1, u'cover': 3, u'clean': 5, u'weigh': 1, u'barrel': 2, u'notch': 3, u'awesom': 4, u'session': 1, u'reput': 1, u'fine': 2, u'find': 14, u'giant': 2, u'markoff': 1, u'pretti': 7, u'solut': 1, u'money': 2, u'8': 3, u'hip': 1, u'hit': 3, u'cheaper': 1, u'batter': 5, u'breast': 2, u'basement': 1, u'sunni': 1, u'him': 11, u'stroll': 1, u'enemi': 1, u'caramel': 1, u'witht': 1, u'californian': 1, u'cole': 1, u'joy': 2, u'set': 5, u'delux': 2, u'proactiv': 1, u'see': 12, u'bare': 1, u'are': 66, u'sea': 1, u'close': 6, u'arm': 1, u'horrif': 1, u'tobi': 1, u'someth': 6, u'grandmoth': 1, u'debat': 1, u'pickup': 1, u'smallest': 1, u'myriad': 1, u'woe': 2, u'experi': 4, u'altern': 2, u'thegreenlanternrestaur': 1, u'sole': 1, u'outfit': 1, u'nervou': 3, u'effen': 1, u'both': 4, u'c': 6, u'last': 9, u'mega': 1, u'retent': 2, u'alon': 3, u'patti': 3, u'8am': 1, u'alot': 1, u'forgotten': 1, u'whole': 1, u'simpli': 3, u'point': 8, u'liken': 1, u'schedul': 3, u'sammi': 1, u'crispi': 3, u'scallop': 2, u'hangov': 1, u'rave': 2, u'worthless': 1, u'coleslaw': 1, u'territori': 1, u'due': 3, u'empti': 1, u'damn': 1, u'treatment': 1, u'hodgepodg': 1, u'39': 1, u'understand': 1, u'greas': 1, u'look': 25, u'hostess': 2, u'solid': 4, u'bill': 9, u'while': 5, u'abov': 4, u'error': 2, u'fun': 2, u'everyon': 1, u'loop': 1, u'pack': 2, u'earli': 2, u'pound': 2, u'readi': 2, u'astound': 1, u'rib': 2, u'decor': 3, u'minim': 1, u'juici': 1, u'9': 3, u'sliver': 1, u'dime': 1, u'yesterday': 1, u'moment': 2, u'typic': 1, u'recent': 7, u'entre': 3, u'older': 3, u'spent': 1, u'pickl': 1, u'person': 4, u'chees': 10, u'elev': 1, u'homestyl': 2, u'swiss': 1, u'tast': 8, u'cheddar': 4, u'cut': 2, u'cup': 1, u'subsequ': 1, u'easter': 1, u'caraf': 1, u'build': 1, u'complaint': 1, u'big': 8, u'intuit': 1, u'bit': 11, u'd': 8, u'collect': 1, u'popular': 1, u'downstair': 1, u'encount': 2, u'often': 2, u'ahi': 1, u'some': 19, u'back': 17, u'yolk': 1, u'surpris': 4, u'affili': 1, u'chocol': 2, u'debri': 1, u'per': 1, u'larg': 6, u'pea': 1, u't': 78, u'be': 69, u'bf': 1, u'patient': 8, u'agreement': 1, u'from': 23, u'major': 2, u'by': 18, u'8pm': 1, u'mendoza': 1, u'sourdough': 1, u'wanna': 1, u'repair': 2, u'hometown': 1, u'into': 4, u'within': 1, u'drain': 1, u'wisco': 1, u'grub': 1, u'question': 1, u'fast': 8, u'custom': 17, u'includ': 4, u'suit': 2, u'forward': 5, u'properli': 2, u'link': 3, u'line': 3, u'reek': 1, u'info': 1, u'consist': 5, u'up': 29, u'us': 13, u'supervisor': 1, u'metal': 1, u'haunt': 1, u'doesn': 9, u'repres': 9, u'char': 1, u'curd': 3, u'chat': 2, u'aggrav': 1, u'hospit': 1, u'peach': 1, u'afford': 1, u'furnac': 1, u'nice': 25, u'draw': 1, u'lent': 1, u'desert': 1, u'deserv': 2, u'ago': 3, u'happier': 2, u'dvd': 1, u'fresh': 12, u'scratch': 1, u'gf': 1, u'ga': 2, u'freakin': 1, u'go': 32, u'peanut': 1, u'friendli': 18, u'send': 3, u'sausag': 4, u'dessert': 4, u'spoon': 4, u'tri': 25, u'fastfood': 1, u'magic': 1, u'roll': 8, u'button': 1, u'shock': 1, u'michael': 1, u'pleas': 4, u'smaller': 1, u'encourag': 1, u'booth': 1, u'odd': 1, u'click': 1, u'folk': 1, u'compar': 1, u'chicago': 1, u'access': 2, u'accomplic': 1, u'can': 31, u'toast': 5, u'led': 1, u'youngest': 1, u'let': 5, u'cozi': 1, u'sinc': 8, u'great': 33, u'convers': 2, u'31': 1, u'30': 5, u'35': 1, u'milwauke': 1, u'impass': 1, u'opinion': 2, u'chang': 3, u'chanc': 2, u'app': 1, u'wit': 1, u'motor': 1, u'use': 7, u'fee': 2, u'crap': 1, u'usa': 1, u'commun': 2, u'doubl': 1, u'upgrad': 1, u'next': 9, u'websit': 2, u'few': 12, u'crab': 1, u'sort': 2, u'impress': 4, u'flaki': 2, u'actual': 10, u'annoy': 1, u'account': 5, u'salad': 6, u'perceiv': 1, u'when': 31, u'tag': 3, u'obvious': 2, u'thin': 2, u'drill': 1, u'didnt': 1, u'employe': 1, u'tap': 1, u'bent': 1, u'patron': 3, u'plate': 5, u'process': 1, u'lizard': 1, u'high': 6, u'carrot': 1, u'downhil': 1, u'onlin': 6, u'shrimp': 4, u'1991': 1, u'everywher': 1, u'sit': 3, u'instead': 4, u'toddler': 1, u'circular': 1, u'fare': 1, u'farm': 1, u'stop': 28, u'scammer': 1, u'attent': 2, u'ceil': 1, u'tomato': 1, u'bakeri': 10, u'unheat': 1, u'light': 2, u'counter': 1, u'robot': 1, u'issu': 3, u'unaccept': 1, u'allow': 3, u'sambuca': 1, u'move': 4, u'scrumptiou': 1, u'soggi': 2, u'perfect': 4, u'1': 4, u'll': 10, u'labor': 1, u'blatant': 1, u'jukebox': 1, u'legendari': 1, u'handl': 2, u'overal': 5, u'bat': 1, u'mention': 2, u'front': 2, u'day': 14, u'preschool': 1, u'warranti': 5, u'yummo': 1, u'somewher': 1, u'anyth': 5, u'slide': 1, u'truth': 2, u'upward': 1, u'lie': 4, u'courteou': 1, u'our': 39, u'special': 4, u'out': 43, u'inexperienc': 1, u'incompet': 1, u'influenc': 1, u'rep': 2, u'stuf': 1, u'red': 1, u'shut': 1, u'insid': 4, u'spot': 3, u'tempt': 1, u'promptli': 1, u'could': 17, u'keep': 2, u'shred': 1, u'outsid': 2, u'scarc': 1, u'south': 1, u'finest': 1, u'qualiti': 4, u'scene': 1, u'facil': 1, u'perfectli': 7, u'system': 1, u'messag': 1, u'their': 30, u'650': 1, u'bartend': 4, u'termin': 1, u'pancak': 3, u'final': 9, u'juli': 1, u'hassl': 1, u'karaok': 2, u'accompani': 1, u'exactli': 3, u'haven': 3, u'comitt': 1, u'misunderstand': 1, u'terribl': 4, u'clearli': 2, u'correspond': 1, u'goldberg': 11, u'have': 90, u'tabl': 12, u'need': 20, u'min': 1, u'mix': 2, u'which': 18, u'so': 43, u'divers': 1, u'singl': 2, u'who': 18, u'whi': 6, u'discov': 1, u'parkinglot': 1, u'mimosa': 1, u'skinni': 1, u'face': 1, u'wow': 1, u'anyway': 1, u'bring': 2, u'utter': 1, u'chicken': 14, u'asylum': 1, u'staff': 16, u'ear': 1, u'locat': 7, u'nois': 2, u'tire': 1, u'hadn': 1, u'upstair': 1, u'should': 3, u'prolong': 1, u'won': 3, u'suppos': 4, u'local': 5, u'hope': 4, u'meant': 1, u'flirtini': 1, u'unhelp': 1, u'beat': 4, u'12noon': 1, u'joint': 1, u'bean': 2, u'organ': 1, u'graduat': 1, u'stuff': 6, u'she': 18, u'view': 7, u'noodl': 1, u'credibl': 1, u'horrend': 1, u'knowledg': 1, u'apolog': 2, u'roesti': 1, u'undercook': 3, u'closer': 1, u'wire': 1, u'wa': 146, u'correctli': 1, u'nationwid': 1, u'favor': 2, u'state': 1, u'email': 1, u'bought': 1, u'superior': 1, u'weak': 2, u'amex': 1, u'job': 4, u'entir': 1, u'breakfest': 1, u'group': 1, u'addit': 3, u'wiggi': 3, u'joke': 1, u'ramp': 1, u'drug': 1, u'etc': 4, u'admit': 1, u'puff': 5, u'co': 7, u'arriv': 6, u'walk': 2, u'respect': 1, u'quit': 7, u'decent': 7, u'anomali': 1, u'cent': 1, u'besid': 1, u'treat': 3, u'electr': 1, u'nickel': 1, u'accident': 1, u'ador': 2, u'furnitur': 1, u'an': 25, u'present': 1, u'plain': 1, u'vanilla': 1, u'homey': 1, u'will': 16, u'hahaha': 1, u'purchas': 1, u've': 17, u'almost': 5, u'partner': 1, u'welcom': 3, u'parti': 3, u'cross': 2, u'cream': 7, u'http': 1, u'drink': 14, u'coffe': 6, u'pleasantli': 1, u'sooner': 1, u'student': 1, u'judgment': 1, u'off': 15, u'dock': 3, u'i': 309, u'well': 12, u'thought': 4, u'choos': 2, u'usual': 5, u'less': 2, u'clinic': 2, u'thanksgiv': 2, u'lake': 11, u'add': 6, u'other': 14, u'sweet': 3, u'280': 1, u'warrant': 1, u'piec': 7, u'realiz': 1, u'five': 6, u'know': 11, u'press': 1, u'doughnut': 1, u'pier': 1, u'like': 33, u'onion': 4, u'incred': 2, u'loser': 1, u'chick': 1, u'page': 1, u'demeanor': 1, u'trucker': 1, u'home': 10, u'librari': 5, u'trust': 1, u'avoid': 2, u'estim': 1, u'leav': 6, u'pepper': 3, u'host': 3, u'although': 1, u'about': 34, u'rare': 3, u'cranberri': 1, u'biscuit': 1, u'powerpoint': 1, u'own': 6, u'unskinni': 1, u'owe': 1, u'tortur': 1, u'cocoa': 1, u'awhil': 1, u'lettuc': 1, u'custard': 9, u'pictur': 1, u'transfer': 8, u'530': 1, u'appl': 2, u'downgrad': 3, u'biggest': 1, u'chunk': 2, u'buy': 1, u'north': 2, u'agre': 1, u'but': 71, u'continu': 3, u'hi': 13, u'gain': 1, u'technician': 2, u'ha': 31, u'eat': 13, u'bud': 1, u'he': 27, u'made': 8, u'veget': 1, u'wish': 3, u'distract': 1, u'limit': 1, u'cake': 1, u'otherwis': 2, u'problem': 8, u'threw': 1, u'hvac': 2, u'dure': 2, u'pie': 3, u'pig': 1, u'regularili': 1, u'eric': 1, u'probabl': 4, u'nonetheless': 1, u'detail': 1, u'40': 2, u'book': 2, u'sick': 1, u'varieti': 1, u'repeat': 4, u'star': 16, u'monday': 2, u'june': 2, u'stay': 2, u'rural': 1, u'appoint': 7, u'experienc': 1, u'yelp': 4, u'rule': 2, u'portion': 3, u'perhap': 1, u'decemb': 2}\n"
     ]
    }
   ],
   "source": [
    "# your code here\n",
    "# use as many cells as you need\n",
    "\n",
    "import json\n",
    "import re\n",
    "from nltk.stem.porter import PorterStemmer\n",
    "\n",
    "stemmer = PorterStemmer()\n",
    "\n",
    "words = {}\n",
    "\n",
    "with open('training_data.json') as input_file:\n",
    "    for line_idx, input_line in enumerate(input_file):\n",
    "        review_item = json.loads(input_line)\n",
    "        review_text = review_item['text']\n",
    "        \n",
    "        text_words = [w for w in re.split('\\W+', review_text) if len(w) > 0]\n",
    "        \n",
    "        for w in text_words:\n",
    "            stemmed = stemmer.stem(w.lower())\n",
    "            \n",
    "            if stemmed in words:\n",
    "                words[stemmed] += 1\n",
    "            else:\n",
    "                words[stemmed] = 1\n",
    "               \n",
    "            \n",
    "        # TODO: remove!!!\n",
    "        # TODO: remove!!!\n",
    "        # TODO: remove!!!\n",
    "        # TODO: remove!!!\n",
    "        # TODO: remove!!!\n",
    "        # TODO: remove!!!\n",
    "        if line_idx > 100:\n",
    "            break\n",
    "        \n",
    "print words"
   ]
  },
  {
   "cell_type": "markdown",
   "metadata": {},
   "source": [
    "### Unique tokens?\n",
    "\n",
    "Once you have your parser working, you should report here the size of your feature space. That is, how many unique tokens do you find?"
   ]
  },
  {
   "cell_type": "code",
   "execution_count": 45,
   "metadata": {},
   "outputs": [
    {
     "name": "stdout",
     "output_type": "stream",
     "text": [
      "number of unique tokens 1722\n"
     ]
    }
   ],
   "source": [
    "# your code here\n",
    "\n",
    "print 'number of unique tokens ' + str(len(words))"
   ]
  },
  {
   "cell_type": "markdown",
   "metadata": {},
   "source": [
    "### The Most Popular Words\n",
    "\n",
    "Great, now we can tokenize the documents. Let's make a list of the most popular words in our reviews. For this step, you should maintain a count of how many times each word occurs. Then you should print out the top-20 words in your reviews.\n",
    "\n",
    "Your output should look like this:\n",
    "\n",
    "Rank Token Count\n",
    "\n",
    "1 awesome 78\n",
    "\n",
    "... ..."
   ]
  },
  {
   "cell_type": "code",
   "execution_count": 52,
   "metadata": {},
   "outputs": [
    {
     "ename": "TypeError",
     "evalue": "'NoneType' object has no attribute '__getitem__'",
     "output_type": "error",
     "traceback": [
      "\u001b[0;31m---------------------------------------------------------------------------\u001b[0m",
      "\u001b[0;31mTypeError\u001b[0m                                 Traceback (most recent call last)",
      "\u001b[0;32m<ipython-input-52-2a6d1353eb23>\u001b[0m in \u001b[0;36m<module>\u001b[0;34m()\u001b[0m\n\u001b[1;32m      2\u001b[0m \u001b[0;34m\u001b[0m\u001b[0m\n\u001b[1;32m      3\u001b[0m \u001b[0mitems\u001b[0m \u001b[0;34m=\u001b[0m \u001b[0mwords\u001b[0m\u001b[0;34m.\u001b[0m\u001b[0mitems\u001b[0m\u001b[0;34m(\u001b[0m\u001b[0;34m)\u001b[0m\u001b[0;34m\u001b[0m\u001b[0m\n\u001b[0;32m----> 4\u001b[0;31m \u001b[0mitems\u001b[0m\u001b[0;34m.\u001b[0m\u001b[0msort\u001b[0m\u001b[0;34m(\u001b[0m\u001b[0mkey\u001b[0m\u001b[0;34m=\u001b[0m\u001b[0;32mlambda\u001b[0m \u001b[0mw\u001b[0m \u001b[0;34m:\u001b[0m \u001b[0;34m-\u001b[0m\u001b[0mw\u001b[0m\u001b[0;34m[\u001b[0m\u001b[0;36m1\u001b[0m\u001b[0;34m]\u001b[0m\u001b[0;34m)\u001b[0m\u001b[0;34m[\u001b[0m\u001b[0;34m:\u001b[0m\u001b[0;36m20\u001b[0m\u001b[0;34m]\u001b[0m\u001b[0;34m\u001b[0m\u001b[0m\n\u001b[0m\u001b[1;32m      5\u001b[0m \u001b[0;34m\u001b[0m\u001b[0m\n\u001b[1;32m      6\u001b[0m \u001b[0;32mprint\u001b[0m \u001b[0;34m\"Rank\\tToken\\tCount\"\u001b[0m\u001b[0;34m\u001b[0m\u001b[0m\n",
      "\u001b[0;31mTypeError\u001b[0m: 'NoneType' object has no attribute '__getitem__'"
     ]
    }
   ],
   "source": [
    "# your code here\n",
    "\n",
    "items = words.items()\n",
    "items.sort(key=lambda w : -w[1])\n",
    "\n",
    "print \"Rank\\tToken\\tCount\"\n",
    "\n",
    "for i in xrange(20):\n",
    "    print str(i + 1) + \"\\t\" + items[i][0] + \"\\t\" + str(items[i][1])"
   ]
  },
  {
   "cell_type": "markdown",
   "metadata": {},
   "source": [
    "### Zipf's Law\n",
    "\n",
    "Recall in class our discussion of Zipf's law. Let's see if this law applies to our Yelp reviews. You should use matplotlib to plot the log-base10 term counts on the y-axis versus the log-base10 rank on the x-axis. Your aim is to create a figure like the one in Figure 5.2 of the textbook."
   ]
  },
  {
   "cell_type": "code",
   "execution_count": 67,
   "metadata": {},
   "outputs": [
    {
     "data": {
      "text/plain": [
       "Text(0,0.5,u'Y-axis')"
      ]
     },
     "execution_count": 67,
     "metadata": {},
     "output_type": "execute_result"
    },
    {
     "data": {
      "image/png": "[encoded data removed]",
      "text/plain": [
       "<matplotlib.figure.Figure at 0x1a1d4b9590>"
      ]
     },
     "metadata": {},
     "output_type": "display_data"
    }
   ],
   "source": [
    "# your code here\n",
    "\n",
    "%matplotlib inline  \n",
    "\n",
    "import matplotlib.pyplot as plt\n",
    "import math\n",
    "\n",
    "plotted_items = items[:20]\n",
    "\n",
    "x = [math.log(rank + 1, 10) for rank in range(len(plotted_items))]\n",
    "y = [math.log(item[1], 10) for item in plotted_items]\n",
    "\n",
    "dataset_1, = plt.plot(x, y)\n",
    "plt.xlabel(\"X-axis\")\n",
    "plt.ylabel(\"Y-axis\")\n",
    "# plt.legend([dataset_1, dataset_2], [\"Alice\", \"Bob\"], loc=4)"
   ]
  },
  {
   "cell_type": "markdown",
   "metadata": {},
   "source": [
    "What do you observe? Is this consistent with Zipf's law?"
   ]
  },
  {
   "cell_type": "markdown",
   "metadata": {},
   "source": [
    "*Your answer goes here*"
   ]
  },
  {
   "cell_type": "markdown",
   "metadata": {},
   "source": [
    "## Part 1.2: Feature Represenation (10 points)\n",
    "\n",
    "In this part you will build feature vectors for each review. This will be input to our ML classifiers. You should call your parser from earlier, using all the same assumptions (e.g., casefolding, stemming). Each feature value should be the term count for that review."
   ]
  },
  {
   "cell_type": "code",
   "execution_count": 16,
   "metadata": {
    "collapsed": true
   },
   "outputs": [],
   "source": [
    "# your code"
   ]
  },
  {
   "cell_type": "markdown",
   "metadata": {},
   "source": [
    "## Part 1.3: Machine Learning Basics (30 points)\n",
    "\n",
    "In this part you will evaluate a bunch of classifiers -- kNN, Decision tree, Naive Bayes, and SVM -- on the feature vectors generated in the previous task in two different settings. **You do not need to implement any classifier from scratch. You may use scikit-learn's built-in capabilities.**\n",
    "\n",
    "### Setting 1: Splitting data into train-test \n",
    "\n",
    "In the first setting, you should treat the first 70% of your data as training. The remaining 30% should be for testing. \n",
    "\n",
    "### Setting 2: Using 5 fold cross-validation\n",
    "\n",
    "In the second setting, use 5-folk cross-validation. \n",
    "\n",
    "### What to report\n",
    "\n",
    "* Report the overall accuracy for both settings.\n",
    "* For the class \"Food-relevant\", report the precision and recall for both settings.\n",
    "* For the class \"Food-irrelevant\", report the precision and recall for both settings."
   ]
  },
  {
   "cell_type": "code",
   "execution_count": 17,
   "metadata": {
    "collapsed": true
   },
   "outputs": [],
   "source": [
    "# your code here...plus add cells for reporting your results"
   ]
  },
  {
   "cell_type": "markdown",
   "metadata": {},
   "source": [
    "## Part 1.4: Analyzing your results (5 points) \n",
    "\n",
    "OK, now that you have tried four different classifiers, what do you observe? Any conclusions you can draw? Give us one or two paragraphs summarizing your findings."
   ]
  },
  {
   "cell_type": "markdown",
   "metadata": {},
   "source": [
    "*add your discussion here*"
   ]
  },
  {
   "cell_type": "markdown",
   "metadata": {},
   "source": [
    "## Part 1.5: Improving your classifier (10 points)\n",
    "\n",
    "I think we can do better! In this part, your job is to create new features that you can think can help improve your classifier. You may choose to use new weightings for your words, new derived features (e.g., count of 3-letter words), or whatever you like. You may also add in the extra features in the json: funny, useful, cool. You will need to experiment with different approaches ... once you finalize on your best approach, include the features here with a description (that is, tell us what the feature means). Then give us your classifier results!"
   ]
  },
  {
   "cell_type": "code",
   "execution_count": 18,
   "metadata": {
    "collapsed": true
   },
   "outputs": [],
   "source": [
    "# your code here ... add as many cells as you need for features, results, and discussion."
   ]
  },
  {
   "cell_type": "markdown",
   "metadata": {},
   "source": [
    "### BONUS: What are the most informative features in distinguishing these two classes?"
   ]
  },
  {
   "cell_type": "code",
   "execution_count": 19,
   "metadata": {
    "collapsed": true
   },
   "outputs": [],
   "source": [
    "# Your code here"
   ]
  },
  {
   "cell_type": "markdown",
   "metadata": {},
   "source": [
    "# Part 2: Learning to Rank (30 points)\n",
    "\n",
    "For this part, we're going to play with some Microsoft LETOR data that has query-document relevance judgments. Let's see how learning to rank works in practice. \n",
    "\n",
    "First, you will need to download the MQ2008.zip file from the Resources tab on Piazza. This is data from the [Microsoft Research IR Group](https://www.microsoft.com/en-us/research/project/letor-learning-rank-information-retrieval/).\n",
    "\n",
    "The data includes 15,211 rows. Each row is a query-document pair. The first column is a relevance label of this pair (0,1 or 2--> the higher value the more related), the second column is query id, the following columns are features, and the end of the row is comment about the pair, including id of the document. A query-document pair is represented by a 46-dimensional feature vector. Features are a numeric value describing a document and query such as TFIDF, BM25, Page Rank, .... You can find compelete description of features from [here](https://arxiv.org/ftp/arxiv/papers/1306/1306.2597.pdf).\n",
    "\n",
    "The good news for you is the dataset is ready for analysis: It has already been split into 5 folds (see the five folders called Fold1, ..., Fold5).\n",
    "\n",
    "For this assignment, we're going to leave our favorite scikit-learn and instead use [SVM-rank](https://www.cs.cornell.edu/people/tj/svm_light/svm_rank.html). This is the basic ranking SVM we talked about in class. You'll see that SVM-rank considers pairwise relevance between docs -- so based on the training data it will transform the data into pairs -- like D1 > D2 and then learn a separator.\n",
    "\n",
    "\n",
    "## Part 2.1: Optimizing SVM-Rank (15 points)\n",
    "\n",
    "First, you should explore how the different parameters affect the quality of the Ranking SVM. You'll see that you can vary the kernel function, the loss function and so forth. \n",
    "\n",
    "You should run SVM-Rank using the default options over each of the five folds. You should find the error on the test set (for example, depending on your settings, svm_rank_classify will give you the zero/one error statistics (that is, the number of correct pairs and the number of incorrect pairs). Report the average. \n",
    "\n",
    "Then try different parameters and report how they impact the quality of results. "
   ]
  },
  {
   "cell_type": "markdown",
   "metadata": {},
   "source": [
    "*add your results and discussion here*"
   ]
  },
  {
   "cell_type": "markdown",
   "metadata": {},
   "source": [
    "\n",
    "## Part 2.1: Noise! (15 points)\n",
    "\n",
    "Now we're going to investigate whether the ranking SVM is easily influenced by noisy features. For example, what if some of the features you have are in error? Or what if you downloaded only a portion of a page to calculate a feature? (so the count of inlinks would be wrong)? \n",
    "\n",
    "In this case, add some noise to the features. What happens to the results? You may choose to add random noise throughout, noise to a single feature, noise to multiple features, etc. The choices are up to you. We aim to see what kind of exploration you conduct and what you conclude."
   ]
  },
  {
   "cell_type": "markdown",
   "metadata": {},
   "source": [
    "*add your results and discussion here*"
   ]
  },
  {
   "cell_type": "markdown",
   "metadata": {},
   "source": [
    "## Collaboration declarations"
   ]
  },
  {
   "cell_type": "markdown",
   "metadata": {},
   "source": [
    "*If you collaborated with anyone (see Collaboration policy at the top of this homework), you can put your collaboration declarations here.*"
   ]
  }
 ],
 "metadata": {
  "anaconda-cloud": {},
  "kernelspec": {
   "display_name": "Python 2",
   "language": "python",
   "name": "python2"
  },
  "language_info": {
   "codemirror_mode": {
    "name": "ipython",
    "version": 2
   },
   "file_extension": ".py",
   "mimetype": "text/x-python",
   "name": "python",
   "nbconvert_exporter": "python",
   "pygments_lexer": "ipython2",
   "version": "2.7.14"
  }
 },
 "nbformat": 4,
 "nbformat_minor": 1
}

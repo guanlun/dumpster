{
 "cells": [
  {
   "cell_type": "markdown",
   "metadata": {},
   "source": [
    "#### CSCE 670 :: Information Storage and Retrieval :: Texas A&M University :: Spring 2018\n",
    "\n",
    "\n",
    "# Homework 2:  Link Analysis -- HITS + SEO\n",
    "\n",
    "### 100 points [5% of your final grade]\n",
    "\n",
    "### Due: Sunday, February 25, 2018 by 11:59pm\n",
    "\n",
    "*Goals of this homework:* Explore real-world challenges of building a graph (in this case, from tweets), implement and test HITS algortihm over this graph, and investigate factors that impact a page's rank on Google and Bing.\n",
    "\n",
    "*Submission Instructions:* To submit your homework, rename this notebook as YOUR_UIN_hw2.ipynb. Submit this notebook via ecampus. Your notebook should be completely self-contained, with the results visible in the notebook. \n",
    "\n",
    "*Late submission policy:* For this homework, you may use up to three of your late days, meaning that no submissions will be accepted after Wednesday, February 28, 2018 at 11:59pm."
   ]
  },
  {
   "cell_type": "markdown",
   "metadata": {},
   "source": [
    "# Part 1: HITS (70 points)\n",
    "\n",
    "## A re-Tweet Graph\n",
    "\n",
    "In this assignment, we're going to adapt the classic HITS approach to allow us to find not the most authoritative web pages, but rather to find significant Twitter users. So, instead of viewing the world as web pages with hyperlinks (where pages = nodes, hyperlinks = edges), we're going to construct a graph of Twitter users and their retweets of other Twitter users (so user = node, retweet of another user = edge). Over this Twitter-user graph, we can apply the HITS approach to order the users by their hub-ness and their authority-ness.\n",
    "\n",
    "Here is a toy example. Suppose you are given the following four retweets:\n",
    "\n",
    "* **userID**: diane, **text**: \"RT \", **sourceID**: bob\n",
    "* **userID**: charlie, **text**: \"RT Welcome\", **sourceID**: alice\n",
    "* **userID**: bob, **text**: \"RT Hi \", **sourceID**: diane\n",
    "* **userID**: alice, **text**: \"RT Howdy!\", **sourceID**: parisa\n",
    "\n",
    "There are four short tweets retweeted by four users. The retweet between users form a directed graph with five nodes and four edges. E.g., the \"diane\" node has a directed edge to the \"bob\" node.\n",
    "\n",
    "You should build a graph by parsing the tweets in the file we provide called *HITS.json*.\n",
    "\n",
    "**Notes:**\n",
    "\n",
    "* You may see some weird characters in the content of tweets, just ignore them. \n",
    "* The edges are weighted and directed. If Bob retweets Alice's tweets 10 times, there is an edge from Bob to Alice with weight 10, but there is not an edge from Alice to Bob.\n",
    "* If a user retweets herself, ignore it.\n",
    "* Correctly parsing screen_name in a tweet is error-prone. Use the id of the user (this is the user who is re-tweeting) and the id of the user in the retweeted_status field (this is the user who is being re-tweeted; that is, this user created the original tweet).\n",
    "* Later you will need to implement the HITS algorithm on the graph you build here.\n"
   ]
  },
  {
   "cell_type": "code",
   "execution_count": 2,
   "metadata": {
    "collapsed": true
   },
   "outputs": [],
   "source": [
    "# your code here \n",
    "\n",
    "import json\n",
    "import numpy as np\n",
    "\n",
    "retweet_adj_list = {}\n",
    "\n",
    "with open('HITS.json', 'r') as data_file:\n",
    "    for idx, line in enumerate(data_file):\n",
    "        tweet = json.loads(line)\n",
    "        user = tweet['user']\n",
    "        user_id = user['id']\n",
    "        \n",
    "        retweet = tweet['retweeted_status']\n",
    "        retweet_user = retweet['user']\n",
    "        retweet_user_id = retweet_user['id']\n",
    "        \n",
    "        if user_id is None or retweet_user_id is None:\n",
    "            continue\n",
    "\n",
    "        if user_id in retweet_adj_list:\n",
    "            user_retweet_dict = retweet_adj_list[user_id]\n",
    "            if retweet_user_id in user_retweet_dict:\n",
    "                user_retweet_dict[retweet_user_id] += 1\n",
    "            else:\n",
    "                user_retweet_dict[retweet_user_id] = 1\n",
    "        else:\n",
    "            user_retweet_dict = {retweet_user_id: 1}\n",
    "            retweet_adj_list[user_id] = user_retweet_dict\n",
    "            \n",
    "        if retweet_user_id not in retweet_adj_list:\n",
    "            retweet_adj_list[retweet_user_id] = {}\n",
    "            \n",
    "user_ids = retweet_adj_list.keys()\n",
    "mtx_size = len(user_ids)\n",
    "\n",
    "retweet_mtx = np.empty([mtx_size, mtx_size])\n",
    "\n",
    "for user_id, user_retweet_dict in retweet_adj_list.items():\n",
    "    user_idx = user_ids.index(user_id)\n",
    "    for retweet_user_id, retweet_count in user_retweet_dict.items():\n",
    "        retweet_user_idx = user_ids.index(retweet_user_id)\n",
    "        retweet_mtx[user_idx, retweet_user_idx] = retweet_count"
   ]
  },
  {
   "cell_type": "markdown",
   "metadata": {
    "collapsed": true
   },
   "source": [
    "We will not check the correctness of your graph. However, this will affect the HITS results later."
   ]
  },
  {
   "cell_type": "markdown",
   "metadata": {},
   "source": [
    "## HITS Implementation\n",
    "\n",
    "Your program will return the top 10 users with highest hub and authority scores. The **output** should be like:\n",
    "\n",
    "Hub Scores\n",
    "\n",
    "* user1 - score1\n",
    "* user2 - score2\n",
    "* ...\n",
    "* user10 - score10\n",
    "\n",
    "Authority Scores\n",
    "\n",
    "* user1 - score1\n",
    "* user2 - score2\n",
    "* ...\n",
    "* user10 - score10\n",
    "\n",
    "You should follow these **rules**:\n",
    "\n",
    "* Assume all nodes start out with equal scores.\n",
    "* It is up to you to decide when to terminate the HITS calculation.\n",
    "* There are HITS implementations out there on the web. Remember, your code should be **your own**.\n",
    "\n",
    "\n",
    "**Hints**:\n",
    "* If you're using the matrix style approach, you should use [numpy.matrix](https://docs.scipy.org/doc/numpy/reference/generated/numpy.matrix.html).\n",
    "* Scipy is built on top of Numpy and has support for sparse matrices. You most likely will not need to use Scipy unless you'd like to try out their sparse matrices.\n",
    "* If you choose to use Numpy (and Scipy), please make sure your Anaconda environment include their latest versions.\n",
    "* Test your parsing and HITS calculations using a handful of tweets, before moving on to the entire file we provide.\n",
    "* We will evaluate the user ranks you provide as well as the quality of your code. So make sure that your code is clear and readable."
   ]
  },
  {
   "cell_type": "code",
   "execution_count": 11,
   "metadata": {},
   "outputs": [
    {
     "name": "stdout",
     "output_type": "stream",
     "text": [
      "Hub Scores: \n",
      "3068706044: 0.623115823549\n",
      "3093940760: 0.296159694671\n",
      "2194518394: 0.259871616481\n",
      "2862783698: 0.202584672302\n",
      "3092183276: 0.170517767545\n",
      "3029724797: 0.16698921435\n",
      "2990704188: 0.147734352497\n",
      "3001500121: 0.144829573568\n",
      "3086921438: 0.12915031665\n",
      "3042686360: 0.125263052268\n",
      "\n",
      "Authority Scores: \n",
      "3042570996: 0.544623341536\n",
      "3065514742: 0.493213810755\n",
      "1638625987: 0.443928539489\n",
      "3077733683: 0.286590313968\n",
      "3039321886: 0.224332663034\n",
      "3077695572: 0.121883629591\n",
      "3019659587: 0.113227616989\n",
      "1358345766: 0.0980430521448\n",
      "3061155846: 0.0939851065212\n",
      "3092580049: 0.0936790372595\n"
     ]
    }
   ],
   "source": [
    "def order_changed(curr_rank, last_rank):\n",
    "    if len(curr_rank) != len(last_rank):\n",
    "        return True\n",
    "    \n",
    "    for i in xrange(len(curr_rank)):\n",
    "        if curr_rank[i][0] != last_rank[i][0]:\n",
    "            return True\n",
    "    return False\n",
    "\n",
    "def normalize(vec):\n",
    "    magnitude = np.linalg.norm(vec)\n",
    "    return vec / magnitude\n",
    "\n",
    "retweet_mtx_trans = np.transpose(retweet_mtx)\n",
    "\n",
    "hub_scores = np.ones(mtx_size)\n",
    "auth_scores = np.ones(mtx_size)\n",
    "\n",
    "iteration = 0\n",
    "\n",
    "auth_rank = []\n",
    "hub_rank = []\n",
    "last_auth_rank = []\n",
    "last_hub_rank = []\n",
    "\n",
    "# Here is the main loop of the HITS algorithm, it will terminate when it converges or after 1000\n",
    "# iterations, whichever is earlier.\n",
    "while iteration < 1000:\n",
    "    auth_scores = normalize(retweet_mtx_trans.dot(hub_scores))\n",
    "    hub_scores = normalize(retweet_mtx.dot(auth_scores))\n",
    "    \n",
    "    auth_rank = zip(user_ids, auth_scores)\n",
    "    hub_rank = zip(user_ids, hub_scores)\n",
    "    \n",
    "    auth_rank.sort(key=lambda item: -item[1])\n",
    "    hub_rank.sort(key=lambda item: -item[1])\n",
    "    \n",
    "    if not order_changed(auth_rank, last_auth_rank) and not order_changed(hub_rank, last_hub_rank):\n",
    "        # the hubs and authorities ranking did not change from the previous iteration -> converged\n",
    "        break\n",
    "    \n",
    "    last_auth_rank = auth_rank\n",
    "    last_hub_rank = hub_rank\n",
    "    \n",
    "    iteration += 1\n",
    "    \n",
    "print 'Hub Scores: '\n",
    "for rank_item in hub_rank[0:10]:\n",
    "    print str(rank_item[0]) + ': ' + str(rank_item[1])\n",
    "    \n",
    "print ''\n",
    "\n",
    "print 'Authority Scores: '\n",
    "for rank_item in auth_rank[0:10]:\n",
    "    print str(rank_item[0]) + ': ' + str(rank_item[1])"
   ]
  },
  {
   "cell_type": "markdown",
   "metadata": {},
   "source": [
    "# Part 2: Search Engine Optimization (30 + 5 points)"
   ]
  },
  {
   "cell_type": "markdown",
   "metadata": {},
   "source": [
    "For this part, your goal is to put on your \"[search engine optimization](https://en.wikipedia.org/wiki/Search_engine_optimization)\" hat. Your job is to create a webpage that scores highest for the query: **kbeznak parmatonic** --- two terms, lower case, no quote. As of today (Feb 16, 2018), there are no hits for this query on either Google or Bing. Based on our discussions of search engine ranking algorithms, you know that several factors may impact a page's rank. Your goal is to use this knowledge to promote your own page to the top of the list.\n",
    "\n",
    "What we're doing here is a form of [SEO contest](https://en.wikipedia.org/wiki/SEO_contest). While you have great latitude in how you approach this problem, you are not allowed to engage in any unethical or illegal behavior. Please read the discussion of \"white hat\" versus \"black hat\" SEO over at [Wikipedia](https://en.wikipedia.org/wiki/Search_engine_optimization#White_hat_versus_black_hat_techniques).\n",
    "\n",
    "\n",
    "**Rules of the game:**\n",
    "\n",
    "* Somewhere in the page (possibly in the non-viewable source html) you must include your name or some other way for us to identify you (e.g., your NetID, but not the UIN!).\n",
    "* Your target page may only be a TAMU student page, a page on your own webserver, a page on a standard blog platform (e.g., wordpress), or some other primarily user-controlled page\n",
    "* Your target page CAN NOT be a twitter account, a facebook page, a Yahoo Answers or similar page\n",
    "* No wikipedia vandalism\n",
    "* No yahoo/wiki answers questions\n",
    "* No comment spamming of blogs\n",
    "* If you have concerns/questions/clarifications, please post on Piazza and we will discuss\n",
    "\n",
    "For your homework turnin for this part, you should provide us the URL of your target page and a brief discussion (2-4 paragraphs) of the strategies you are using. We will issue the query and check the rankings at some undetermined time in the next couple of weeks. You might guess that major search engines take some time to discover and integrate new pages: if I were you, I'd get a target page up immediately.\n",
    "\n",
    "**Grading:**\n",
    "\n",
    "* 5 points for providing a valid URL\n",
    "* 20 points for a well-reasoned discussion of your strategy\n",
    "* 5 points for your page appearing in the search results by Google or Bing (no matter how is the ranking)\n",
    "\n",
    "** Bonus: **\n",
    "* 1 point for your page appearing in the top-20 on Google or Bing\n",
    "* 1 more point for your page appearing in the top-10 on Google or Bing\n",
    "* 1 more point for your page appearing in the top-5 on Google or Bing\n",
    "* 2 more points for your page being ranked first by Google or Bing. And, a vigorous announcement in class, and a high-five for having the top result!"
   ]
  },
  {
   "cell_type": "markdown",
   "metadata": {},
   "source": [
    "What's the URL of your page?\n"
   ]
  },
  {
   "cell_type": "markdown",
   "metadata": {},
   "source": [
    "What's your strategy? (2-4 paragraphs)\n"
   ]
  },
  {
   "cell_type": "markdown",
   "metadata": {
    "collapsed": true
   },
   "source": [
    "The homepage of my blog is https://guanlun.github.io\n",
    "\n",
    "And the article is at http://guanlun.github.io/kbeznak/parmatonic/2018/02/21/kbeznak-parmatonic.html"
   ]
  },
  {
   "cell_type": "markdown",
   "metadata": {
    "collapsed": true
   },
   "source": [
    "I created the page on my personal github.io blog. I took one of my old blog post with a lot of text and images, and replaced a word with **kbeznak parmatonic**, so that the word appeared many times in the page. I did this because I thought the content richness of a page could be crucial in its ranking. Later I picked a few words (mainly technical terms, e.g. GPU) and linked them to their Wikipedia pages or official documentation site, as this could potentially increase the hub score. Another thing I did was adding some comments under that post, though I was not sure if that was effective.\n",
    "\n",
    "I then shared the page to some social network websites, including YouTube, Google+, Reddit, etc., hoping to increase the number of backlinks. Another thing I did was creating a LinkedIn user named **Kbeznak Parmatonic** and putting a link on his profile to my page. However, so far I haven't been able to find that user from the Google search results. I also asked my friend to put a link on his page, in exchange I did the same for him. In addition, I shamelessly posted comments on my classmates' **kbeznak parmatonic** YouTube videos with a link to my page. Here I hoped increasing the links to and from the page could help.\n",
    "\n",
    "After a while I still couldn't find my page and thought maybe Google hadn't indexed my page yet. Therefore, I searched \"how to make google reindex my page\" and was taken to the Google WebMaster Tools, where I was able to register the page, ask Google to fetch it and request for re-indexing. Immediately after the re-indexing finished, I was able to find my site from the first page of search results on Google."
   ]
  }
 ],
 "metadata": {
  "anaconda-cloud": {},
  "kernelspec": {
   "display_name": "Python 2",
   "language": "python",
   "name": "python2"
  },
  "language_info": {
   "codemirror_mode": {
    "name": "ipython",
    "version": 2
   },
   "file_extension": ".py",
   "mimetype": "text/x-python",
   "name": "python",
   "nbconvert_exporter": "python",
   "pygments_lexer": "ipython2",
   "version": "2.7.14"
  }
 },
 "nbformat": 4,
 "nbformat_minor": 1
}

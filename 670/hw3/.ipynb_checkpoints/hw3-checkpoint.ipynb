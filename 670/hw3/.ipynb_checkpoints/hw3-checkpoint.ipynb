{
 "cells": [
  {
   "cell_type": "markdown",
   "metadata": {},
   "source": [
    "#### CSCE 670 :: Information Storage and Retrieval :: Texas A&M University :: Spring 2018\n",
    "\n",
    "\n",
    "# Homework 3:  Embeddings + Recommenders\n",
    "\n",
    "### 100 points [5% of your final grade]\n",
    "\n",
    "### Due: Monday, April 9 by 11:59pm\n",
    "\n",
    "*Goals of this homework:* There are two main learning objectives: (i) implement and evaluate a pre-cursor to modern word2vec embeddings; and (ii) implement, evaluate, and improve upon traditional collaborative filtering recommenders.\n",
    "\n",
    "*Submission Instructions:* To submit your homework, rename this notebook as UIN_hw#.ipynb. For example, this homework submission would be: YourUIN_hw3.ipynb. Submit this notebook via ecampus. Your notebook should be completely self-contained, with the results visible in the notebook. \n",
    "\n",
    "*Late submission policy:* For this homework, you may use up to three of your late days, meaning that no submissions will be accepted after Thursday, April 12 at 11:59pm."
   ]
  },
  {
   "cell_type": "markdown",
   "metadata": {},
   "source": [
    "# Part 1: Word Embeddings (50 points)\n",
    "For this first part, we're going to implement a word embedding approach that is a bit simpler than word2vec. The key idea is to look at co-occurrences between center words and context words (somewhat like in word2vec) but without any pesky learning of model parameters.\n",
    "\n",
    "If you're interested in a deeper treatment of comparing count vs. learned embeddings, take a look at: [Don’t count, predict! A systematic comparison of\n",
    "context-counting vs. context-predicting semantic vectors](\n",
    "http://www.aclweb.org/anthology/P14-1023)"
   ]
  },
  {
   "cell_type": "markdown",
   "metadata": {},
   "source": [
    "## Load the Brown Corpus\n",
    "\n",
    "The dataset for this part is the (in)famous [Brown corpus](https://en.wikipedia.org/wiki/Brown_Corpus) that is a collection of text samples from a wide range of sources, with over one million unique words. Good for us, you can find the Brown corpus in nltk. *Make sure you have already installed nltk with something like: conda install nltk*"
   ]
  },
  {
   "cell_type": "code",
   "execution_count": 1,
   "metadata": {},
   "outputs": [
    {
     "name": "stdout",
     "output_type": "stream",
     "text": [
      "[nltk_data] Downloading package brown to /Users/guanlun/nltk_data...\n",
      "[nltk_data]   Package brown is already up-to-date!\n"
     ]
    },
    {
     "data": {
      "text/plain": [
       "True"
      ]
     },
     "execution_count": 1,
     "metadata": {},
     "output_type": "execute_result"
    }
   ],
   "source": [
    "import nltk\n",
    "nltk.download('brown')"
   ]
  },
  {
   "cell_type": "markdown",
   "metadata": {},
   "source": [
    "Once you have it locally, you can load the dataset into your notebook. You can access the words using brown.words():"
   ]
  },
  {
   "cell_type": "code",
   "execution_count": 2,
   "metadata": {},
   "outputs": [
    {
     "data": {
      "text/plain": [
       "[u'The', u'Fulton', u'County', u'Grand', u'Jury', ...]"
      ]
     },
     "execution_count": 2,
     "metadata": {},
     "output_type": "execute_result"
    }
   ],
   "source": [
    "from nltk.corpus import brown\n",
    "brown.words()"
   ]
  },
  {
   "cell_type": "markdown",
   "metadata": {},
   "source": [
    "## 1.1 Dataset Pre-processing\n",
    "OK, now we need to do some basic pre-processing. For this part you should:\n",
    "\n",
    "* Remove stopwords and punctuation.\n",
    "* Make everything lowercase.\n",
    "\n",
    "Then, count how often each word occurs. We will define the 5,000 most  frequent words as your vocabulary (V). We will define the 1,000 most frequent words as our context (C). Include a print statement below to show the top-20 words after pre-processing."
   ]
  },
  {
   "cell_type": "code",
   "execution_count": 3,
   "metadata": {},
   "outputs": [
    {
     "name": "stdout",
     "output_type": "stream",
     "text": [
      "1\tone\t3297\n",
      "2\twould\t2714\n",
      "3\tsaid\t1961\n",
      "4\tnew\t1635\n",
      "5\tcould\t1601\n",
      "6\ttime\t1598\n",
      "7\ttwo\t1412\n",
      "8\tmay\t1402\n",
      "9\tfirst\t1361\n",
      "10\tlike\t1292\n",
      "11\tman\t1207\n",
      "12\teven\t1170\n",
      "13\tmade\t1125\n",
      "14\talso\t1069\n",
      "15\tmany\t1030\n",
      "16\tmust\t1013\n",
      "17\tyears\t1001\n",
      "18\taf\t996\n",
      "19\tback\t966\n",
      "20\twell\t961\n"
     ]
    }
   ],
   "source": [
    "# Your Code Here...\n",
    "from nltk.corpus import stopwords\n",
    "import re\n",
    "\n",
    "en_stopwords = stopwords.words('english')\n",
    "\n",
    "word_count = dict()\n",
    "\n",
    "words = []\n",
    "\n",
    "for word in brown.words():\n",
    "    word_base = re.sub(r'\\W+', '', word.lower())\n",
    "    if len(word_base) != 0 and not word_base in en_stopwords:\n",
    "        if word_base in word_count:\n",
    "            word_count[word_base] += 1\n",
    "        else:\n",
    "            word_count[word_base] = 1\n",
    "            \n",
    "        words.append(word_base)\n",
    "            \n",
    "items = word_count.items()\n",
    "items.sort(key=lambda w : -w[1])\n",
    "\n",
    "vocabulary = [w[0] for w in items[0:5000]]\n",
    "context = [w[0] for w in items[0:1000]]\n",
    "\n",
    "for i in xrange(20):\n",
    "    print str(i + 1) + \"\\t\" + items[i][0] + \"\\t\" + str(items[i][1])"
   ]
  },
  {
   "cell_type": "markdown",
   "metadata": {},
   "source": [
    "## 1.2 Building the Co-occurrence Matrix \n",
    "\n",
    "For each word in the vocabulary (w), we want to calculate how often context words from C appear in its surrounding window of size 4 (two words before and two words after).\n",
    "\n",
    "In other words, we need to define a co-occurrence matrix that has a dimension of |V|x|C| such that each cell (w,c) represents the number of times c occurs in a window around w. "
   ]
  },
  {
   "cell_type": "code",
   "execution_count": 4,
   "metadata": {},
   "outputs": [
    {
     "name": "stdout",
     "output_type": "stream",
     "text": [
      "[[ 82.  76.  52. ...,   2.   1.   0.]\n",
      " [ 76.  70.  68. ...,   2.   1.   0.]\n",
      " [ 52.  68.  34. ...,   4.   1.   0.]\n",
      " ..., \n",
      " [  0.   1.   0. ...,   0.   0.   0.]\n",
      " [  0.   0.   0. ...,   0.   0.   0.]\n",
      " [  0.   0.   0. ...,   0.   0.   0.]]\n"
     ]
    }
   ],
   "source": [
    "# Your Code Here...\n",
    "import numpy as np\n",
    "\n",
    "co_occurrence = np.zeros((5000, 1000))\n",
    "\n",
    "idx_lookup = dict()\n",
    "\n",
    "for idx, word in enumerate(vocabulary):\n",
    "    idx_lookup[word] = idx\n",
    "\n",
    "for idx, word in enumerate(words):\n",
    "    if word in vocabulary:\n",
    "        neighbors = words[idx - 2: idx] + words[idx + 1: idx + 3]\n",
    "\n",
    "        voc_idx = idx_lookup[word]\n",
    "\n",
    "        for n in neighbors:\n",
    "            if n in context:\n",
    "                ctx_idx = idx_lookup[n]\n",
    "                co_occurrence[voc_idx, ctx_idx] += 1\n",
    "                \n",
    "print co_occurrence"
   ]
  },
  {
   "cell_type": "markdown",
   "metadata": {},
   "source": [
    "## 1.3 Probability Distribution\n",
    "\n",
    "Using the co-occurrence matrix, we can compute the probability distribution Pr(c|w) of context word c around w as well as the overall probability distribution of each context word c with Pr(c).  "
   ]
  },
  {
   "cell_type": "code",
   "execution_count": null,
   "metadata": {
    "collapsed": true
   },
   "outputs": [],
   "source": [
    "# Your Code Here..."
   ]
  },
  {
   "cell_type": "markdown",
   "metadata": {},
   "source": [
    "## 1.4 Embedding Representation\n",
    "\n",
    "Now you can represent each vocabulary word as a |C| dimensional vector using this equation:\n",
    "\n",
    "Vector(w)= max(0, log (Pr(c|w)/Pr(c)))\n",
    "\n",
    "This is a traditional approach called *pointwise mutual information* that pre-dates word2vec by some time. "
   ]
  },
  {
   "cell_type": "code",
   "execution_count": null,
   "metadata": {
    "collapsed": true
   },
   "outputs": [],
   "source": [
    "# Your Code Here..."
   ]
  },
  {
   "cell_type": "markdown",
   "metadata": {},
   "source": [
    "## 1.5 Analysis\n",
    "\n",
    "So now we have some embeddings for each word. But are they meaningful? For this part, you should:\n",
    "\n",
    "- First, cluster the vocabulary into 100 clusters using k-means. Look over the words in each cluster, can you see any relation beween words? Discuss your observations.\n",
    "\n",
    "- Second, for the top-20 most frequent words, find the nearest neighbors using cosine distance (1- cosine similarity). Do the findings make sense? Discuss."
   ]
  },
  {
   "cell_type": "code",
   "execution_count": null,
   "metadata": {
    "collapsed": true
   },
   "outputs": [],
   "source": [
    "# Your Code Here..."
   ]
  },
  {
   "cell_type": "markdown",
   "metadata": {},
   "source": [
    "# Part 2. Collaborative Filtering (50 points)\n",
    "\n",
    "In this second part, you will implement collaborative filtering on the Netflix prize dataset -- don’t freak out, the provided sample dataset has only ~2000 items and ~28,000 users.\n",
    "\n",
    "As background, read the paper [Empirical Analysis of Predictive Algorithms for Collaborative Filtering](https://arxiv.org/pdf/1301.7363.pdf) up to Section 2.1. Of course you can read further if you are interested, and you can also refer to the course slides for collaborative filtering."
   ]
  },
  {
   "cell_type": "markdown",
   "metadata": {},
   "source": [
    "## 2.1 Load Netflix Data\n",
    "\n",
    "The dataset is subset of movie ratings data from the Netflix Prize Challenge. Download the dataset from Piazza. It contains a train set, test set, movie file, and README file. The last two files are original ones from the Netflix Prize, however; in this homework you will deal with train and test files which both are subsets of the Netflix training data. Each of train and test files has lines having this format: MovieID,UserID,Rating.\n",
    "\n",
    "Your job is to predict a rating in the test set using those provided in the training set."
   ]
  },
  {
   "cell_type": "code",
   "execution_count": 85,
   "metadata": {},
   "outputs": [],
   "source": [
    "# load the data, then print out the number of ratings, \n",
    "# movies and users in each of train and test sets.\n",
    "# Your Code Here...\n",
    "\n",
    "import numpy as np\n",
    "\n",
    "# create two-way lookups so that we can later find the index given its ID in the rating matrix, and vice versa\n",
    "movie_ids = []\n",
    "movie_id_lookup = {}\n",
    "\n",
    "user_ids = []\n",
    "user_id_lookup = {}\n",
    "\n",
    "def read_rating_file(filename):\n",
    "    rating_matrix = None\n",
    "    \n",
    "    with open(filename) as training_file:\n",
    "        records = []\n",
    "        \n",
    "        movie_idx = 0\n",
    "        user_idx = 0\n",
    "\n",
    "        for idx, line in enumerate(training_file):\n",
    "            segments = line.rstrip(\"\\r\\n\").split(',')\n",
    "            movie_id = int(segments[0])\n",
    "            user_id = int(segments[1])\n",
    "            rating = float(segments[2])\n",
    "            \n",
    "            if movie_id not in movie_id_lookup:\n",
    "                movie_id_lookup[movie_id] = movie_idx\n",
    "                movie_ids.append(movie_id)\n",
    "                movie_idx += 1\n",
    "                \n",
    "            if user_id not in user_id_lookup:\n",
    "                user_id_lookup[user_id] = user_idx\n",
    "                user_ids.append(user_id)\n",
    "                user_idx += 1\n",
    "\n",
    "            records.append((movie_id, user_id, rating))\n",
    "    \n",
    "        movie_count = len(movie_ids)\n",
    "        user_count = len(user_ids)\n",
    "        \n",
    "        rating_matrix = np.zeros((movie_count, user_count))\n",
    "        \n",
    "        for record in records:\n",
    "            movie_idx = movie_id_lookup[record[0]]\n",
    "            user_idx = user_id_lookup[record[1]]\n",
    "            \n",
    "            rating_matrix[movie_idx, user_idx] = record[2]\n",
    "\n",
    "        return records, rating_matrix\n",
    "\n",
    "training_records, training_rating_mtx = read_rating_file('./netflix-dataset/TrainingRatings.txt')\n",
    "testing_records, testing_rating_mtx = read_rating_file('./netflix-dataset/TestingRatings.txt')"
   ]
  },
  {
   "cell_type": "code",
   "execution_count": 95,
   "metadata": {},
   "outputs": [],
   "source": [
    "user_rated = []\n",
    "\n",
    "for i in xrange(user_count):\n",
    "    rated_movies = []\n",
    "    for j in xrange(movie_count):  \n",
    "        if training_rating_mtx[j, i] != 0:\n",
    "            rated_movies.append(j)\n",
    "\n",
    "    user_rated.append(rated_movies)"
   ]
  },
  {
   "cell_type": "markdown",
   "metadata": {},
   "source": [
    "## 2.2 Implement CF\n",
    "\n",
    "In this part, you will implement the basic collaborative filtering algorithm described in Section 2.1 of the paper -- that is, focus only on Equations 1 and 2 (where Equation 2 is just the Pearson correlation). You should consider the first 5,000 users with their associated items in the test set. \n",
    "\n",
    "Note that you should test the algorithm for a small set of users e.g., 10 users first and then run for 5,000 users. It may take long to run but you won't have memory issues. \n",
    "\n",
    "Set k to 0.1. "
   ]
  },
  {
   "cell_type": "code",
   "execution_count": 129,
   "metadata": {},
   "outputs": [
    {
     "name": "stdout",
     "output_type": "stream",
     "text": [
      "0\n",
      "2.78544061303 -99.7260791682\n"
     ]
    }
   ],
   "source": [
    "# Your Code Here....\n",
    "\n",
    "import math\n",
    "\n",
    "def user_mean(user_idx):\n",
    "    user_total_rating = 0\n",
    "    user_rated_count = 0\n",
    "    for j in xrange(movie_count):\n",
    "        rating = training_rating_mtx[j, user_idx]\n",
    "        if rating != 0:\n",
    "            user_total_rating += rating\n",
    "            user_rated_count += 1\n",
    "            \n",
    "    return user_total_rating / user_rated_count\n",
    "\n",
    "movie_count = training_rating_mtx.shape[0]\n",
    "user_count = 5000 # training_rating_mtx.shape[1]\n",
    "\n",
    "for testing_record in testing_records[1:2]:\n",
    "    movie_idx = movie_id_lookup[testing_record[0]]\n",
    "    user_a_idx = user_id_lookup[testing_record[1]]\n",
    "    \n",
    "    user_a_mean = user_mean(user_a_idx)\n",
    "    \n",
    "    vote_diff_sum = 0\n",
    "    \n",
    "    for user_i_idx in xrange(user_count):\n",
    "        multiplied_sum = 0\n",
    "        user_a_sum = 0\n",
    "        user_i_sum = 0\n",
    "        \n",
    "        user_i_mean = user_mean(user_i_idx)\n",
    "        common_rated_movie_indices = user_rated[user_a_idx].intersection(user_rated[user_i_idx])\n",
    "        \n",
    "        for common_movie_idx in common_rated_movie_indices:\n",
    "            user_a_diff = training_rating_mtx[common_movie_idx, user_a_idx] - user_a_mean\n",
    "            user_i_diff = training_rating_mtx[common_movie_idx, user_i_idx] - user_i_mean\n",
    "           \n",
    "            multiplied_sum += user_a_diff * user_i_diff\n",
    "            user_a_sum += user_a_diff * user_a_diff\n",
    "            user_i_sum += user_i_diff * user_i_diff\n",
    "\n",
    "        w = 0\n",
    "        if user_a_sum * user_i_sum != 0:\n",
    "            w = multiplied_sum / math.sqrt(user_a_sum * user_i_sum)\n",
    "        \n",
    "        if training_rating_mtx[common_movie_idx, user_i_idx] != 0:\n",
    "            vote_diff_sum += w * (training_rating_mtx[movie_idx, user_i_idx] - user_i_mean)\n",
    "        \n",
    "    print user_i_mean, user_i_mean + 0.1 * vote_diff_sum"
   ]
  },
  {
   "cell_type": "markdown",
   "metadata": {},
   "source": [
    "## 2.3 Evaluation \n",
    "\n",
    "You should evaluate your predictions using Mean Absolute Error and Root Mean Squared Error. "
   ]
  },
  {
   "cell_type": "code",
   "execution_count": null,
   "metadata": {
    "collapsed": true
   },
   "outputs": [],
   "source": [
    "# Mean Absolute Error"
   ]
  },
  {
   "cell_type": "code",
   "execution_count": null,
   "metadata": {
    "collapsed": true
   },
   "outputs": [],
   "source": [
    "# Root Mean Squared Error"
   ]
  },
  {
   "cell_type": "markdown",
   "metadata": {},
   "source": [
    "## 2.4 Extensions\n",
    "\n",
    "Given your results in the previous part, can you do better? For this last part you should report on your best attempt at improving MAE and RMSE. Provide code, results, plus a brief discussion on your approach."
   ]
  },
  {
   "cell_type": "code",
   "execution_count": null,
   "metadata": {
    "collapsed": true
   },
   "outputs": [],
   "source": [
    "# Your Code Here..."
   ]
  },
  {
   "cell_type": "markdown",
   "metadata": {},
   "source": [
    "*Insert discussion here*"
   ]
  }
 ],
 "metadata": {
  "kernelspec": {
   "display_name": "Python 2",
   "language": "python",
   "name": "python2"
  },
  "language_info": {
   "codemirror_mode": {
    "name": "ipython",
    "version": 2
   },
   "file_extension": ".py",
   "mimetype": "text/x-python",
   "name": "python",
   "nbconvert_exporter": "python",
   "pygments_lexer": "ipython2",
   "version": "2.7.14"
  }
 },
 "nbformat": 4,
 "nbformat_minor": 2
}
